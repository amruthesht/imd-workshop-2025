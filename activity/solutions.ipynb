{
 "cells": [
  {
   "cell_type": "markdown",
   "metadata": {},
   "source": [
    "## Challenge 1\n",
    "\n",
    "Calculates the number of water molecules within 4 Angstroms of the protein during each timestep."
   ]
  },
  {
   "cell_type": "code",
   "execution_count": null,
   "metadata": {},
   "outputs": [],
   "source": [
    "from imdclient.IMD import IMDReader\n",
    "import MDAnalysis as mda\n",
    "from graph_utils import LiveTimeseriesGraph\n",
    "\n",
    "u = mda.Universe(\"sample_simulation/imdgroup.gro\", \"imd://localhost:9999\", buffer_size=100*1024**2)\n",
    "\n",
    "try:\n",
    "\n",
    "    graph = LiveTimeseriesGraph(\n",
    "        time_window=1.0, # ps\n",
    "        dt=0.010, # ps\n",
    "        title='Number of water molecules within 4 Angstroms of protein vs. Time',\n",
    "        y_label='Number of water molecules',\n",
    "    )\n",
    "\n",
    "    for ts in u.trajectory:\n",
    "        # Select all water molecules that are within 4 angstroms of a non-water (protein) molecule\n",
    "        sel = u.select_atoms(\"(resname SOL) and (around 4 not resname SOL)\")\n",
    "        graph.update(ts.time, len(sel))\n",
    "\n",
    "except Exception as e:\n",
    "    print(e)\n",
    "finally:\n",
    "    u.trajectory.close()"
   ]
  },
  {
   "cell_type": "markdown",
   "metadata": {},
   "source": [
    "## Challenge 2\n",
    "\n",
    "Calculate the radius of gyration of the protein for each timestep."
   ]
  },
  {
   "cell_type": "code",
   "execution_count": null,
   "metadata": {},
   "outputs": [],
   "source": [
    "from imdclient.IMD import IMDReader\n",
    "import MDAnalysis as mda\n",
    "import numpy as np\n",
    "from graph_utils import LiveTimeseriesGraph\n",
    "\n",
    "u = mda.Universe(\"sample_simulation/imdgroup.gro\", \"imd://localhost:9999\", buffer_size=100*1024**2)\n",
    "\n",
    "try:\n",
    "\n",
    "    graph = LiveTimeseriesGraph(\n",
    "        time_window=1.0, # ps\n",
    "        dt=0.010, # ps\n",
    "        title='Radius of gyration vs. Time',\n",
    "        y_label='Radius of gyration (Angstroms)',\n",
    "    )\n",
    "\n",
    "    sel = u.select_atoms(\"protein\")\n",
    "    total_mass = np.sum(u.atoms.masses)\n",
    "\n",
    "    for ts in u.trajectory:\n",
    "        \n",
    "        center_of_mass = sel.center_of_mass()\n",
    "        pos = sel.positions\n",
    "        masses = sel.masses\n",
    "\n",
    "        ri_sq = np.square((pos - center_of_mass))\n",
    "        ri_sq = np.sum(ri_sq, axis=1)\n",
    "        sq = np.sum(ri_sq * masses)\n",
    "        sq = sq / total_mass\n",
    "\n",
    "        radius_of_gyration = np.sqrt(sq)\n",
    "\n",
    "        graph.update(ts.time, radius_of_gyration)\n",
    "\n",
    "except Exception as e:\n",
    "    print(e)\n",
    "finally:\n",
    "    u.trajectory.close()"
   ]
  }
 ],
 "metadata": {
  "kernelspec": {
   "display_name": "imdclient-test",
   "language": "python",
   "name": "python3"
  },
  "language_info": {
   "codemirror_mode": {
    "name": "ipython",
    "version": 3
   },
   "file_extension": ".py",
   "mimetype": "text/x-python",
   "name": "python",
   "nbconvert_exporter": "python",
   "pygments_lexer": "ipython3",
   "version": "3.12.0"
  }
 },
 "nbformat": 4,
 "nbformat_minor": 2
}
