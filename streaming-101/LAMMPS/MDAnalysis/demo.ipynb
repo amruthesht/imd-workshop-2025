{
 "cells": [
  {
   "cell_type": "code",
   "execution_count": null,
   "metadata": {},
   "outputs": [],
   "source": [
    "from imdclient.IMD import IMDReader\n",
    "import MDAnalysis as mda\n",
    "\n",
    "import numpy as np\n",
    "np.set_printoptions(formatter={'float': '{:8.3f}'.format})"
   ]
  },
  {
   "cell_type": "code",
   "execution_count": null,
   "metadata": {},
   "outputs": [],
   "source": [
    "u = mda.Universe(\"topology.data\", \"imd://10.206.72.141:8888\", atom_style=\"id type x y z\", buffer_size=10*1024*1024)\n",
    "sel = u.select_atoms(\"all\")"
   ]
  },
  {
   "cell_type": "code",
   "execution_count": null,
   "metadata": {},
   "outputs": [],
   "source": [
    "print(\"    time [         position         ] [         velocity         ] [           force          ] [            box           ]\")\n",
    "i = 0\n",
    "for ts in u.trajectory:\n",
    "    print(f'{ts.time:8.3f} {sel[42].position} {sel[42].velocity} {sel[42].force} {u.dimensions[0:3]}')\n",
    "    i += 1"
   ]
  }
 ],
 "metadata": {
  "kernelspec": {
   "display_name": "mda",
   "language": "python",
   "name": "python3"
  },
  "language_info": {
   "codemirror_mode": {
    "name": "ipython",
    "version": 3
   },
   "file_extension": ".py",
   "mimetype": "text/x-python",
   "name": "python",
   "nbconvert_exporter": "python",
   "pygments_lexer": "ipython3",
   "version": "3.12.2"
  }
 },
 "nbformat": 4,
 "nbformat_minor": 2
}
