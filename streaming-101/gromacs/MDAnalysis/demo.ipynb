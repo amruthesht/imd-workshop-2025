{
 "cells": [
  {
   "cell_type": "code",
   "execution_count": null,
   "metadata": {},
   "outputs": [],
   "source": [
    "from imdclient.IMD import IMDReader\n",
    "import MDAnalysis as mda\n",
    "\n",
    "import numpy as np\n",
    "np.set_printoptions(formatter={'float': '{:8.3f}'.format})"
   ]
  },
  {
   "cell_type": "code",
   "execution_count": null,
   "metadata": {},
   "outputs": [],
   "source": [
    "#u = mda.Universe(\"topol.tpr\", \"imd://10.206.72.141:8888\", buffer_size = 10*1024*1024)\n",
    "u = mda.Universe(\"topol.tpr\", \"imd://localhost:8889\", buffer_size = 10*1024*1024)\n",
    "sel = u.select_atoms(\"all\")"
   ]
  },
  {
   "cell_type": "code",
   "execution_count": null,
   "metadata": {},
   "outputs": [],
   "source": [
    "print(\"    time [         position         ] [         velocity         ] [           force          ] [            box           ]\")\n",
    "i = 0\n",
    "for ts in u.trajectory:\n",
    "    print(f'{ts.time:8.3f} {sel[0].position} {sel[0].velocity} {sel[0].force} {u.dimensions[0:3]}')\n",
    "    i += 1"
   ]
  }
 ],
 "metadata": {
  "kernelspec": {
   "display_name": "mda",
   "language": "python",
   "name": "python3"
  },
  "language_info": {
   "codemirror_mode": {
    "name": "ipython",
    "version": 3
   },
   "file_extension": ".py",
   "mimetype": "text/x-python",
   "name": "python",
   "nbconvert_exporter": "python",
   "pygments_lexer": "ipython3",
   "version": "3.12.2"
  }
 },
 "nbformat": 4,
 "nbformat_minor": 2
}
