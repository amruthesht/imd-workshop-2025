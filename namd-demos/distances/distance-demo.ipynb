{
 "cells": [
  {
   "cell_type": "markdown",
   "metadata": {},
   "source": [
    "## On-the fly Analysis\n",
    "\n",
    "In this demo, we will be doing on-the-fly visulaization of the data recived by the IMDClient from the MD engine. We will be visualzing the distance between the two atoms in the system."
   ]
  },
  {
   "cell_type": "markdown",
   "metadata": {},
   "source": [
    "#### Libray Imports\n",
    "\n",
    "We import requisite libraries for the client, the analysis and plotting."
   ]
  },
  {
   "cell_type": "code",
   "execution_count": null,
   "metadata": {},
   "outputs": [],
   "source": [
    "# Import required libraries\n",
    "from imdclient.IMD import IMDReader\n",
    "import MDAnalysis as mda\n",
    "import logging\n",
    "import matplotlib.pyplot as plt\n",
    "import numpy as np\n",
    "import subprocess\n",
    "import os\n",
    "import numpy as np\n",
    "import matplotlib.pyplot as plt\n",
    "import threading\n",
    "import time\n",
    "from IPython.display import display\n",
    "\n",
    "NAMD_TOPOL = \"../exec-files/T3_MNN.psf\"\n",
    "\n",
    "# Set up logging\n",
    "logger = logging.getLogger(\"imdclient.IMDClient\")\n",
    "file_handler = logging.FileHandler(\"imdreader.log\")\n",
    "formatter = logging.Formatter(\"%(asctime)s - %(name)s - %(levelname)s - %(message)s\")\n",
    "file_handler.setFormatter(formatter)\n",
    "logger.addHandler(file_handler)\n",
    "logger.setLevel(logging.INFO)"
   ]
  },
  {
   "cell_type": "markdown",
   "metadata": {},
   "source": [
    "#### Initialize the plot for live-visualization\n",
    "\n",
    "Functions for initializing the plot, updating it and running the IMD client/reader are defined here."
   ]
  },
  {
   "cell_type": "code",
   "execution_count": null,
   "metadata": {},
   "outputs": [],
   "source": [
    "# Function to update the plot dynamically\n",
    "def update_plot(x_data, y_data):\n",
    "    \"\"\"\n",
    "    Update the plot with new data.\n",
    "\n",
    "    Args:\n",
    "        x_data (list): Frame numbers.\n",
    "        y_data (list): Distances between Atom 1 and Atom 3.\n",
    "    \"\"\"\n",
    "    line.set_data(x_data, y_data)  # Efficiently update the line with all data\n",
    "    # ax.set_xlim(0, max(5000,max(x_data)))  # Adjust X-axis dynamically\n",
    "    fig.canvas.draw_idle()  # Efficient redraw\n",
    "    # ax.draw_artist(line)\n",
    "    # fig.canvas.blit(ax.bbox)\n",
    "\n",
    "# Function to compute distances and update the plot\n",
    "def read_and_plot(update_frequency=100):\n",
    "    x_data = np.zeros(8000) #np.array([])  # Use NumPy arrays\n",
    "    y_data = np.zeros(8000) #np.array([])\n",
    "\n",
    "    frame_count = 0\n",
    "    for ts in u.trajectory:\n",
    "        # Compute distance and append data\n",
    "        distance = np.linalg.norm(ts.positions[0] - ts.positions[99])\n",
    "        x_data[frame_count] = frame_count + 1\n",
    "        y_data[frame_count] = distance\n",
    "        frame_count += 1\n",
    "\n",
    "        # Update the plot periodically\n",
    "        if frame_count % update_frequency == 0:\n",
    "            logger.info(f\"Updating plot at frame {frame_count}.\")\n",
    "            update_plot(x_data[:frame_count], y_data[:frame_count])\n",
    "\n",
    "    logger.info(f\"Processed {frame_count} frames.\")\n",
    "\n",
    "# Thread function to process trajectory data\n",
    "def start_thread(update_frequency=100):\n",
    "    \"\"\"\n",
    "    Start a thread for reading trajectory and updating the plot.\n",
    "\n",
    "    Args:\n",
    "        update_frequency (int): Number of frames to process before updating the plot.\n",
    "    \"\"\"\n",
    "    data_thread = threading.Thread(target=read_and_plot, args=(update_frequency,))\n",
    "    data_thread.daemon = True  # Thread exits when main program ends\n",
    "    data_thread.start()"
   ]
  },
  {
   "cell_type": "markdown",
   "metadata": {},
   "source": [
    "#### Perfrom the analysis on-the-fly and upate the plot"
   ]
  },
  {
   "cell_type": "code",
   "execution_count": null,
   "metadata": {},
   "outputs": [],
   "source": [
    "# Initialize MDAnalysis Universe\n",
    "u = mda.Universe(NAMD_TOPOL, \"imd://localhost:1025\")\n",
    "\n",
    "# Enable interactive plotting\n",
    "%matplotlib widget\n",
    "plt.ion()\n",
    "\n",
    "# Initialize the plot\n",
    "fig, ax = plt.subplots()\n",
    "line, = ax.plot([], [], lw=2)  # Line for dynamic updates\n",
    "ax.set_xlim(0, 1000)  # Adjust as necessary\n",
    "ax.set_ylim(22, 25)  # Adjust based on expected distance range\n",
    "ax.set_xlabel(\"Simulation Time (steps)\")\n",
    "ax.set_ylabel(\"Distance between Atom 1 and Atom 100\")\n",
    "\n",
    "# Display the plot\n",
    "# display(fig)\n",
    "\n",
    "# Start the processing thread\n",
    "start_thread(update_frequency=1)  # Update the plot every few frames"
   ]
  }
 ],
 "metadata": {
  "kernelspec": {
   "display_name": "imdclient-test",
   "language": "python",
   "name": "python3"
  },
  "language_info": {
   "codemirror_mode": {
    "name": "ipython",
    "version": 3
   },
   "file_extension": ".py",
   "mimetype": "text/x-python",
   "name": "python",
   "nbconvert_exporter": "python",
   "pygments_lexer": "ipython3",
   "version": "3.12.0"
  }
 },
 "nbformat": 4,
 "nbformat_minor": 2
}
