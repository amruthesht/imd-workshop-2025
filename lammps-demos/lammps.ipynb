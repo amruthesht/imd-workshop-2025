{
 "cells": [
  {
   "cell_type": "markdown",
   "metadata": {},
   "source": [
    "# Run the simulation\n",
    "\n",
    "In the terminal: \n",
    "\n",
    "```bash\n",
    "lmp < lammps_v3.in\n",
    "```"
   ]
  },
  {
   "cell_type": "markdown",
   "metadata": {},
   "source": [
    "# Analyze stream"
   ]
  },
  {
   "cell_type": "code",
   "execution_count": null,
   "metadata": {},
   "outputs": [],
   "source": [
    "from imdclient.IMD import IMDReader\n",
    "import MDAnalysis as mda\n",
    "from MDAnalysis.analysis.rms import RMSF\n",
    "from MDAnalysis.analysis.rdf import InterRDF\n",
    "import concurrent.futures\n",
    "\n",
    "u = mda.Universe(\"topology_after_min.data\", \"imd://localhost:8889\", atom_style=\"id type x y z\",)\n",
    "g = u.atoms\n",
    "\n",
    "rdf = InterRDF(g, g)\n",
    "rdf._ts = u.trajectory.ts\n",
    "\n",
    "rmsf = RMSF(g)\n",
    "rmsf._ts = u.trajectory.ts\n",
    "\n",
    "rdf._prepare()\n",
    "rmsf._prepare()\n",
    "\n",
    "executor = concurrent.futures.ThreadPoolExecutor()\n",
    "\n",
    "count = 0\n",
    "for ts in u.trajectory:\n",
    "    rdf_frame = executor.submit(rdf._single_frame)\n",
    "\n",
    "    rmsf._frame_index = count\n",
    "    rmsf_frame =executor.submit(rmsf._single_frame)\n",
    "\n",
    "    # Wait for each thread to finish\n",
    "    rdf_frame.result()\n",
    "    rmsf_frame.result()\n",
    "\n",
    "    count += 1\n",
    "\n",
    "rdf.n_frames = count\n",
    "rdf._conclude()\n",
    "\n",
    "rmsf._conclude()\n",
    "\n",
    "rdf.results[\"rdf\"]\n",
    "rmsf.results[\"rmsf\"]\n"
   ]
  }
 ],
 "metadata": {
  "kernelspec": {
   "display_name": "imdclient-test",
   "language": "python",
   "name": "python3"
  },
  "language_info": {
   "codemirror_mode": {
    "name": "ipython",
    "version": 3
   },
   "file_extension": ".py",
   "mimetype": "text/x-python",
   "name": "python",
   "nbconvert_exporter": "python",
   "pygments_lexer": "ipython3",
   "version": "3.12.0"
  }
 },
 "nbformat": 4,
 "nbformat_minor": 2
}
