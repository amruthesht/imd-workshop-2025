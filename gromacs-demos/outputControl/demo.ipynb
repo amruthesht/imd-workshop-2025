{
 "cells": [
  {
   "cell_type": "code",
   "execution_count": 4,
   "metadata": {},
   "outputs": [],
   "source": [
    "from imdclient.IMDREADER import IMDReader\n",
    "import MDAnalysis as mda\n",
    "import align as al\n",
    "import logging"
   ]
  },
  {
   "cell_type": "code",
   "execution_count": 5,
   "metadata": {},
   "outputs": [],
   "source": [
    "logger = logging.getLogger(\"imdclient.IMDClient\")\n",
    "file_handler = logging.FileHandler(\"imdreader.log\")\n",
    "formatter = logging.Formatter(\n",
    "    \"%(asctime)s - %(name)s - %(levelname)s - %(message)s\"\n",
    ")\n",
    "file_handler.setFormatter(formatter)\n",
    "logger.addHandler(file_handler)\n",
    "logger.setLevel(logging.DEBUG)"
   ]
  },
  {
   "cell_type": "code",
   "execution_count": 6,
   "metadata": {},
   "outputs": [],
   "source": [
    "u = mda.Universe(\"mda.tpr\", \"imd://localhost:8888\", buffer_size = 100*1024*1024)\n",
    "protein = u.select_atoms(\"protein\")\n",
    "align = al.align(u,protein)\n",
    "\n",
    "i = 0\n",
    "with mda.Writer(\"imd/protein-pbc-aligned.trr\", protein.n_atoms) as w:\n",
    "    for ts in u.trajectory:\n",
    "        align.single_frame()\n",
    "        if i % 10 == 0:\n",
    "            w.write(protein)\n",
    "        i += 1"
   ]
  },
  {
   "cell_type": "code",
   "execution_count": 7,
   "metadata": {},
   "outputs": [],
   "source": [
    "logger.info(f\"Parsed {i} frames\")"
   ]
  }
 ],
 "metadata": {
  "kernelspec": {
   "display_name": "mda",
   "language": "python",
   "name": "python3"
  },
  "language_info": {
   "codemirror_mode": {
    "name": "ipython",
    "version": 3
   },
   "file_extension": ".py",
   "mimetype": "text/x-python",
   "name": "python",
   "nbconvert_exporter": "python",
   "pygments_lexer": "ipython3",
   "version": "3.12.2"
  }
 },
 "nbformat": 4,
 "nbformat_minor": 2
}
